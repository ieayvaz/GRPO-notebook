{
  "metadata": {
    "kernelspec": {
      "name": "python",
      "display_name": "Python (Pyodide)",
      "language": "python"
    },
    "language_info": {
      "codemirror_mode": {
        "name": "python",
        "version": 3
      },
      "file_extension": ".py",
      "mimetype": "text/x-python",
      "name": "python",
      "nbconvert_exporter": "python",
      "pygments_lexer": "ipython3",
      "version": "3.8"
    },
    "colab": {
      "provenance": []
    },
    "widgets": {
      "application/vnd.jupyter.widget-state+json": {
        "479cb67f69c94a6b938378d5fdee8ade": {
          "model_module": "@jupyter-widgets/controls",
          "model_name": "VBoxModel",
          "model_module_version": "1.5.0",
          "state": {
            "_dom_classes": [],
            "_model_module": "@jupyter-widgets/controls",
            "_model_module_version": "1.5.0",
            "_model_name": "VBoxModel",
            "_view_count": null,
            "_view_module": "@jupyter-widgets/controls",
            "_view_module_version": "1.5.0",
            "_view_name": "VBoxView",
            "box_style": "",
            "children": [
              "IPY_MODEL_c9ca2b76efb142c8ae5c97e4f709641d",
              "IPY_MODEL_51ab19e933bc41e49e2404ede6e517ce",
              "IPY_MODEL_8d865b3b190b4f1c9d84c59de97b1974",
              "IPY_MODEL_476c4dd5a64e4992a088f9b1a7431b1b",
              "IPY_MODEL_c7154e0c880e4ec18e3255ea26d39e32"
            ],
            "layout": "IPY_MODEL_7b8abfae0ac4420db1ee49fd63fae822"
          }
        },
        "c9ca2b76efb142c8ae5c97e4f709641d": {
          "model_module": "@jupyter-widgets/controls",
          "model_name": "HTMLModel",
          "model_module_version": "1.5.0",
          "state": {
            "_dom_classes": [],
            "_model_module": "@jupyter-widgets/controls",
            "_model_module_version": "1.5.0",
            "_model_name": "HTMLModel",
            "_view_count": null,
            "_view_module": "@jupyter-widgets/controls",
            "_view_module_version": "1.5.0",
            "_view_name": "HTMLView",
            "description": "",
            "description_tooltip": null,
            "layout": "IPY_MODEL_867add48669946778ec90a41a34627ec",
            "placeholder": "​",
            "style": "IPY_MODEL_0f7e861a36224fd9bfb67151c7bc85e9",
            "value": "<center> <img\nsrc=https://huggingface.co/front/assets/huggingface_logo-noborder.svg\nalt='Hugging Face'> <br> Copy a token from <a\nhref=\"https://huggingface.co/settings/tokens\" target=\"_blank\">your Hugging Face\ntokens page</a> and paste it below. <br> Immediately click login after copying\nyour token or it might be stored in plain text in this notebook file. </center>"
          }
        },
        "51ab19e933bc41e49e2404ede6e517ce": {
          "model_module": "@jupyter-widgets/controls",
          "model_name": "PasswordModel",
          "model_module_version": "1.5.0",
          "state": {
            "_dom_classes": [],
            "_model_module": "@jupyter-widgets/controls",
            "_model_module_version": "1.5.0",
            "_model_name": "PasswordModel",
            "_view_count": null,
            "_view_module": "@jupyter-widgets/controls",
            "_view_module_version": "1.5.0",
            "_view_name": "PasswordView",
            "continuous_update": true,
            "description": "Token:",
            "description_tooltip": null,
            "disabled": false,
            "layout": "IPY_MODEL_56b9ccc3aeaf4c31b343d1c23c1e50d6",
            "placeholder": "​",
            "style": "IPY_MODEL_fc25ea353afc4c72aa04dd64bdeb836a",
            "value": ""
          }
        },
        "8d865b3b190b4f1c9d84c59de97b1974": {
          "model_module": "@jupyter-widgets/controls",
          "model_name": "CheckboxModel",
          "model_module_version": "1.5.0",
          "state": {
            "_dom_classes": [],
            "_model_module": "@jupyter-widgets/controls",
            "_model_module_version": "1.5.0",
            "_model_name": "CheckboxModel",
            "_view_count": null,
            "_view_module": "@jupyter-widgets/controls",
            "_view_module_version": "1.5.0",
            "_view_name": "CheckboxView",
            "description": "Add token as git credential?",
            "description_tooltip": null,
            "disabled": false,
            "indent": true,
            "layout": "IPY_MODEL_0368e149f7ae4698a3953df20e6aa811",
            "style": "IPY_MODEL_dcce1f3c8dec4d2682016a83efbecf73",
            "value": true
          }
        },
        "476c4dd5a64e4992a088f9b1a7431b1b": {
          "model_module": "@jupyter-widgets/controls",
          "model_name": "ButtonModel",
          "model_module_version": "1.5.0",
          "state": {
            "_dom_classes": [],
            "_model_module": "@jupyter-widgets/controls",
            "_model_module_version": "1.5.0",
            "_model_name": "ButtonModel",
            "_view_count": null,
            "_view_module": "@jupyter-widgets/controls",
            "_view_module_version": "1.5.0",
            "_view_name": "ButtonView",
            "button_style": "",
            "description": "Login",
            "disabled": false,
            "icon": "",
            "layout": "IPY_MODEL_d358963f2e3c4aee86741a79503b7d30",
            "style": "IPY_MODEL_a4f985695a1e4a579caefd32449ddfbb",
            "tooltip": ""
          }
        },
        "c7154e0c880e4ec18e3255ea26d39e32": {
          "model_module": "@jupyter-widgets/controls",
          "model_name": "HTMLModel",
          "model_module_version": "1.5.0",
          "state": {
            "_dom_classes": [],
            "_model_module": "@jupyter-widgets/controls",
            "_model_module_version": "1.5.0",
            "_model_name": "HTMLModel",
            "_view_count": null,
            "_view_module": "@jupyter-widgets/controls",
            "_view_module_version": "1.5.0",
            "_view_name": "HTMLView",
            "description": "",
            "description_tooltip": null,
            "layout": "IPY_MODEL_259a7bed66f04f79a6f42daca7506caa",
            "placeholder": "​",
            "style": "IPY_MODEL_050f1e95ffe0462980d097cda9d6765a",
            "value": "\n<b>Pro Tip:</b> If you don't already have one, you can create a dedicated\n'notebooks' token with 'write' access, that you can then easily reuse for all\nnotebooks. </center>"
          }
        },
        "7b8abfae0ac4420db1ee49fd63fae822": {
          "model_module": "@jupyter-widgets/base",
          "model_name": "LayoutModel",
          "model_module_version": "1.2.0",
          "state": {
            "_model_module": "@jupyter-widgets/base",
            "_model_module_version": "1.2.0",
            "_model_name": "LayoutModel",
            "_view_count": null,
            "_view_module": "@jupyter-widgets/base",
            "_view_module_version": "1.2.0",
            "_view_name": "LayoutView",
            "align_content": null,
            "align_items": "center",
            "align_self": null,
            "border": null,
            "bottom": null,
            "display": "flex",
            "flex": null,
            "flex_flow": "column",
            "grid_area": null,
            "grid_auto_columns": null,
            "grid_auto_flow": null,
            "grid_auto_rows": null,
            "grid_column": null,
            "grid_gap": null,
            "grid_row": null,
            "grid_template_areas": null,
            "grid_template_columns": null,
            "grid_template_rows": null,
            "height": null,
            "justify_content": null,
            "justify_items": null,
            "left": null,
            "margin": null,
            "max_height": null,
            "max_width": null,
            "min_height": null,
            "min_width": null,
            "object_fit": null,
            "object_position": null,
            "order": null,
            "overflow": null,
            "overflow_x": null,
            "overflow_y": null,
            "padding": null,
            "right": null,
            "top": null,
            "visibility": null,
            "width": "50%"
          }
        },
        "867add48669946778ec90a41a34627ec": {
          "model_module": "@jupyter-widgets/base",
          "model_name": "LayoutModel",
          "model_module_version": "1.2.0",
          "state": {
            "_model_module": "@jupyter-widgets/base",
            "_model_module_version": "1.2.0",
            "_model_name": "LayoutModel",
            "_view_count": null,
            "_view_module": "@jupyter-widgets/base",
            "_view_module_version": "1.2.0",
            "_view_name": "LayoutView",
            "align_content": null,
            "align_items": null,
            "align_self": null,
            "border": null,
            "bottom": null,
            "display": null,
            "flex": null,
            "flex_flow": null,
            "grid_area": null,
            "grid_auto_columns": null,
            "grid_auto_flow": null,
            "grid_auto_rows": null,
            "grid_column": null,
            "grid_gap": null,
            "grid_row": null,
            "grid_template_areas": null,
            "grid_template_columns": null,
            "grid_template_rows": null,
            "height": null,
            "justify_content": null,
            "justify_items": null,
            "left": null,
            "margin": null,
            "max_height": null,
            "max_width": null,
            "min_height": null,
            "min_width": null,
            "object_fit": null,
            "object_position": null,
            "order": null,
            "overflow": null,
            "overflow_x": null,
            "overflow_y": null,
            "padding": null,
            "right": null,
            "top": null,
            "visibility": null,
            "width": null
          }
        },
        "0f7e861a36224fd9bfb67151c7bc85e9": {
          "model_module": "@jupyter-widgets/controls",
          "model_name": "DescriptionStyleModel",
          "model_module_version": "1.5.0",
          "state": {
            "_model_module": "@jupyter-widgets/controls",
            "_model_module_version": "1.5.0",
            "_model_name": "DescriptionStyleModel",
            "_view_count": null,
            "_view_module": "@jupyter-widgets/base",
            "_view_module_version": "1.2.0",
            "_view_name": "StyleView",
            "description_width": ""
          }
        },
        "56b9ccc3aeaf4c31b343d1c23c1e50d6": {
          "model_module": "@jupyter-widgets/base",
          "model_name": "LayoutModel",
          "model_module_version": "1.2.0",
          "state": {
            "_model_module": "@jupyter-widgets/base",
            "_model_module_version": "1.2.0",
            "_model_name": "LayoutModel",
            "_view_count": null,
            "_view_module": "@jupyter-widgets/base",
            "_view_module_version": "1.2.0",
            "_view_name": "LayoutView",
            "align_content": null,
            "align_items": null,
            "align_self": null,
            "border": null,
            "bottom": null,
            "display": null,
            "flex": null,
            "flex_flow": null,
            "grid_area": null,
            "grid_auto_columns": null,
            "grid_auto_flow": null,
            "grid_auto_rows": null,
            "grid_column": null,
            "grid_gap": null,
            "grid_row": null,
            "grid_template_areas": null,
            "grid_template_columns": null,
            "grid_template_rows": null,
            "height": null,
            "justify_content": null,
            "justify_items": null,
            "left": null,
            "margin": null,
            "max_height": null,
            "max_width": null,
            "min_height": null,
            "min_width": null,
            "object_fit": null,
            "object_position": null,
            "order": null,
            "overflow": null,
            "overflow_x": null,
            "overflow_y": null,
            "padding": null,
            "right": null,
            "top": null,
            "visibility": null,
            "width": null
          }
        },
        "fc25ea353afc4c72aa04dd64bdeb836a": {
          "model_module": "@jupyter-widgets/controls",
          "model_name": "DescriptionStyleModel",
          "model_module_version": "1.5.0",
          "state": {
            "_model_module": "@jupyter-widgets/controls",
            "_model_module_version": "1.5.0",
            "_model_name": "DescriptionStyleModel",
            "_view_count": null,
            "_view_module": "@jupyter-widgets/base",
            "_view_module_version": "1.2.0",
            "_view_name": "StyleView",
            "description_width": ""
          }
        },
        "0368e149f7ae4698a3953df20e6aa811": {
          "model_module": "@jupyter-widgets/base",
          "model_name": "LayoutModel",
          "model_module_version": "1.2.0",
          "state": {
            "_model_module": "@jupyter-widgets/base",
            "_model_module_version": "1.2.0",
            "_model_name": "LayoutModel",
            "_view_count": null,
            "_view_module": "@jupyter-widgets/base",
            "_view_module_version": "1.2.0",
            "_view_name": "LayoutView",
            "align_content": null,
            "align_items": null,
            "align_self": null,
            "border": null,
            "bottom": null,
            "display": null,
            "flex": null,
            "flex_flow": null,
            "grid_area": null,
            "grid_auto_columns": null,
            "grid_auto_flow": null,
            "grid_auto_rows": null,
            "grid_column": null,
            "grid_gap": null,
            "grid_row": null,
            "grid_template_areas": null,
            "grid_template_columns": null,
            "grid_template_rows": null,
            "height": null,
            "justify_content": null,
            "justify_items": null,
            "left": null,
            "margin": null,
            "max_height": null,
            "max_width": null,
            "min_height": null,
            "min_width": null,
            "object_fit": null,
            "object_position": null,
            "order": null,
            "overflow": null,
            "overflow_x": null,
            "overflow_y": null,
            "padding": null,
            "right": null,
            "top": null,
            "visibility": null,
            "width": null
          }
        },
        "dcce1f3c8dec4d2682016a83efbecf73": {
          "model_module": "@jupyter-widgets/controls",
          "model_name": "DescriptionStyleModel",
          "model_module_version": "1.5.0",
          "state": {
            "_model_module": "@jupyter-widgets/controls",
            "_model_module_version": "1.5.0",
            "_model_name": "DescriptionStyleModel",
            "_view_count": null,
            "_view_module": "@jupyter-widgets/base",
            "_view_module_version": "1.2.0",
            "_view_name": "StyleView",
            "description_width": ""
          }
        },
        "d358963f2e3c4aee86741a79503b7d30": {
          "model_module": "@jupyter-widgets/base",
          "model_name": "LayoutModel",
          "model_module_version": "1.2.0",
          "state": {
            "_model_module": "@jupyter-widgets/base",
            "_model_module_version": "1.2.0",
            "_model_name": "LayoutModel",
            "_view_count": null,
            "_view_module": "@jupyter-widgets/base",
            "_view_module_version": "1.2.0",
            "_view_name": "LayoutView",
            "align_content": null,
            "align_items": null,
            "align_self": null,
            "border": null,
            "bottom": null,
            "display": null,
            "flex": null,
            "flex_flow": null,
            "grid_area": null,
            "grid_auto_columns": null,
            "grid_auto_flow": null,
            "grid_auto_rows": null,
            "grid_column": null,
            "grid_gap": null,
            "grid_row": null,
            "grid_template_areas": null,
            "grid_template_columns": null,
            "grid_template_rows": null,
            "height": null,
            "justify_content": null,
            "justify_items": null,
            "left": null,
            "margin": null,
            "max_height": null,
            "max_width": null,
            "min_height": null,
            "min_width": null,
            "object_fit": null,
            "object_position": null,
            "order": null,
            "overflow": null,
            "overflow_x": null,
            "overflow_y": null,
            "padding": null,
            "right": null,
            "top": null,
            "visibility": null,
            "width": null
          }
        },
        "a4f985695a1e4a579caefd32449ddfbb": {
          "model_module": "@jupyter-widgets/controls",
          "model_name": "ButtonStyleModel",
          "model_module_version": "1.5.0",
          "state": {
            "_model_module": "@jupyter-widgets/controls",
            "_model_module_version": "1.5.0",
            "_model_name": "ButtonStyleModel",
            "_view_count": null,
            "_view_module": "@jupyter-widgets/base",
            "_view_module_version": "1.2.0",
            "_view_name": "StyleView",
            "button_color": null,
            "font_weight": ""
          }
        },
        "259a7bed66f04f79a6f42daca7506caa": {
          "model_module": "@jupyter-widgets/base",
          "model_name": "LayoutModel",
          "model_module_version": "1.2.0",
          "state": {
            "_model_module": "@jupyter-widgets/base",
            "_model_module_version": "1.2.0",
            "_model_name": "LayoutModel",
            "_view_count": null,
            "_view_module": "@jupyter-widgets/base",
            "_view_module_version": "1.2.0",
            "_view_name": "LayoutView",
            "align_content": null,
            "align_items": null,
            "align_self": null,
            "border": null,
            "bottom": null,
            "display": null,
            "flex": null,
            "flex_flow": null,
            "grid_area": null,
            "grid_auto_columns": null,
            "grid_auto_flow": null,
            "grid_auto_rows": null,
            "grid_column": null,
            "grid_gap": null,
            "grid_row": null,
            "grid_template_areas": null,
            "grid_template_columns": null,
            "grid_template_rows": null,
            "height": null,
            "justify_content": null,
            "justify_items": null,
            "left": null,
            "margin": null,
            "max_height": null,
            "max_width": null,
            "min_height": null,
            "min_width": null,
            "object_fit": null,
            "object_position": null,
            "order": null,
            "overflow": null,
            "overflow_x": null,
            "overflow_y": null,
            "padding": null,
            "right": null,
            "top": null,
            "visibility": null,
            "width": null
          }
        },
        "050f1e95ffe0462980d097cda9d6765a": {
          "model_module": "@jupyter-widgets/controls",
          "model_name": "DescriptionStyleModel",
          "model_module_version": "1.5.0",
          "state": {
            "_model_module": "@jupyter-widgets/controls",
            "_model_module_version": "1.5.0",
            "_model_name": "DescriptionStyleModel",
            "_view_count": null,
            "_view_module": "@jupyter-widgets/base",
            "_view_module_version": "1.2.0",
            "_view_name": "StyleView",
            "description_width": ""
          }
        }
      }
    }
  },
  "nbformat_minor": 5,
  "nbformat": 4,
  "cells": [
    {
      "id": "29f3de3e-7a5d-4b28-a675-7db20104022c",
      "cell_type": "code",
      "source": [
        "!pip install  -U -q trl peft bitsandbytes wandb\n",
        "# Tested with transformers==4.47.1, trl==0.14.0, datasets==3.2.0, peft==0.14.0, accelerate==1.2.1"
      ],
      "metadata": {
        "trusted": true,
        "id": "29f3de3e-7a5d-4b28-a675-7db20104022c",
        "colab": {
          "base_uri": "https://localhost:8080/"
        },
        "outputId": "4645cc99-053d-44a4-e62d-f97db4cde60c"
      },
      "outputs": [
        {
          "output_type": "stream",
          "name": "stdout",
          "text": [
            "\u001b[2K   \u001b[90m━━━━━━━━━━━━━━━━━━━━━━━━━━━━━━━━━━━━━━━━\u001b[0m \u001b[32m766.7/766.7 MB\u001b[0m \u001b[31m1.1 MB/s\u001b[0m eta \u001b[36m0:00:00\u001b[0m\n",
            "\u001b[2K   \u001b[90m━━━━━━━━━━━━━━━━━━━━━━━━━━━━━━━━━━━━━━━━\u001b[0m \u001b[32m150.1/150.1 MB\u001b[0m \u001b[31m7.7 MB/s\u001b[0m eta \u001b[36m0:00:00\u001b[0m\n",
            "\u001b[2K   \u001b[90m━━━━━━━━━━━━━━━━━━━━━━━━━━━━━━━━━━━━━━━━\u001b[0m \u001b[32m253.2/253.2 MB\u001b[0m \u001b[31m6.0 MB/s\u001b[0m eta \u001b[36m0:00:00\u001b[0m\n",
            "\u001b[?25h\u001b[31mERROR: pip's dependency resolver does not currently take into account all the packages that are installed. This behaviour is the source of the following dependency conflicts.\n",
            "torchvision 0.20.1+cu124 requires torch==2.5.1, but you have torch 2.6.0 which is incompatible.\n",
            "torchaudio 2.5.1+cu124 requires torch==2.5.1, but you have torch 2.6.0 which is incompatible.\n",
            "fastai 2.7.18 requires torch<2.6,>=1.10, but you have torch 2.6.0 which is incompatible.\u001b[0m\u001b[31m\n",
            "\u001b[0m"
          ]
        }
      ],
      "execution_count": null
    },
    {
      "id": "15510df5-7dfb-4451-8c77-d57642ac7cbe",
      "cell_type": "code",
      "source": [
        "from huggingface_hub import notebook_login\n",
        "\n",
        "notebook_login()"
      ],
      "metadata": {
        "trusted": true,
        "id": "15510df5-7dfb-4451-8c77-d57642ac7cbe",
        "colab": {
          "base_uri": "https://localhost:8080/",
          "height": 386,
          "referenced_widgets": [
            "479cb67f69c94a6b938378d5fdee8ade",
            "c9ca2b76efb142c8ae5c97e4f709641d",
            "51ab19e933bc41e49e2404ede6e517ce",
            "8d865b3b190b4f1c9d84c59de97b1974",
            "476c4dd5a64e4992a088f9b1a7431b1b",
            "c7154e0c880e4ec18e3255ea26d39e32",
            "7b8abfae0ac4420db1ee49fd63fae822",
            "867add48669946778ec90a41a34627ec",
            "0f7e861a36224fd9bfb67151c7bc85e9",
            "56b9ccc3aeaf4c31b343d1c23c1e50d6",
            "fc25ea353afc4c72aa04dd64bdeb836a",
            "0368e149f7ae4698a3953df20e6aa811",
            "dcce1f3c8dec4d2682016a83efbecf73",
            "d358963f2e3c4aee86741a79503b7d30",
            "a4f985695a1e4a579caefd32449ddfbb",
            "259a7bed66f04f79a6f42daca7506caa",
            "050f1e95ffe0462980d097cda9d6765a"
          ]
        },
        "outputId": "443e45d2-6c07-4df9-bab2-01a9db9ece05"
      },
      "outputs": [
        {
          "output_type": "display_data",
          "data": {
            "text/plain": [
              "VBox(children=(HTML(value='<center> <img\\nsrc=https://huggingface.co/front/assets/huggingface_logo-noborder.sv…"
            ],
            "application/vnd.jupyter.widget-view+json": {
              "version_major": 2,
              "version_minor": 0,
              "model_id": "479cb67f69c94a6b938378d5fdee8ade"
            }
          },
          "metadata": {}
        }
      ],
      "execution_count": null
    },
    {
      "cell_type": "code",
      "source": [
        "import wandb\n",
        "\n",
        "wandb.login()\n",
        "\n",
        "# Name the project\n",
        "%env WANDB_PROJECT=Cosmos-8B-Instruct-GRPO"
      ],
      "metadata": {
        "id": "BdwP3GYJ42Rk",
        "colab": {
          "base_uri": "https://localhost:8080/"
        },
        "outputId": "a5fb028b-941f-4988-a021-df3fcea9c6de"
      },
      "id": "BdwP3GYJ42Rk",
      "execution_count": null,
      "outputs": [
        {
          "output_type": "stream",
          "name": "stdout",
          "text": [
            "env: WANDB_PROJECT=Cosmos-8B-Instruct-GRPO\n"
          ]
        }
      ]
    },
    {
      "id": "e53374a9-0c65-4d8e-950f-1573af1d2f22",
      "cell_type": "code",
      "source": [
        "from datasets import load_dataset\n",
        "\n",
        "dataset_id = \"alibayram/turkish_mmlu\"\n",
        "train_dataset = load_dataset(dataset_id, split=[\"train\"])\n",
        "train_dataset = train_dataset[0]\n",
        "train_dataset = train_dataset.remove_columns([\"bolum\",\"konu\",\"aciklama\",\"__index_level_0__\"])\n",
        "train_dataset = train_dataset.shuffle(seed=42).select(range(6600))"
      ],
      "metadata": {
        "trusted": true,
        "id": "e53374a9-0c65-4d8e-950f-1573af1d2f22"
      },
      "outputs": [],
      "execution_count": null
    },
    {
      "id": "09f6bdb2-b27d-4cdb-92a0-4b8e45d8a0be",
      "cell_type": "code",
      "source": [
        "# Test dataset\n",
        "print(train_dataset[0])"
      ],
      "metadata": {
        "trusted": true,
        "id": "09f6bdb2-b27d-4cdb-92a0-4b8e45d8a0be"
      },
      "outputs": [],
      "execution_count": null
    },
    {
      "id": "f573c07b-94dc-439b-8e97-ed9a9580c755",
      "cell_type": "code",
      "source": [
        "SYSTEM_PROMPT = (\n",
        "    \"Kullanıcı ve asistan arasında bir konuşma. Kullanıcı bir soru soruyor, asistan bu soruyu çözüyor ve cevap veriyor. Asistan \"\n",
        "    \"soruyu öncelikle kendi zihininde düşünüyor ve sonra kullanıcıya yanıt veriyor. Akıl yürütme \"\n",
        "    \"işlemi <düşünce> </düşünce>, cevaplar <cevap> </cevap> etiketleri arasında gösteriliyor.\"\n",
        "    \"Örneğin: <düşünce>Akıl yürütme kısmı</düşünce><cevap>Cevap Kısmı</cevap>\"\n",
        ")\n",
        "\n",
        "\n",
        "def make_conversation(example):\n",
        "    secenekler = [a + b for a,b in zip([\"A)\",\"B)\",\"C)\",\"D)\",\"E)\"],example[\"secenekler\"])]\n",
        "    user_content = example[\"soru\"] + \" Seçenekler: \" + \" \".join(secenekler)\n",
        "    return {\n",
        "        \"prompt\": [\n",
        "            {\"role\": \"system\", \"content\": SYSTEM_PROMPT},\n",
        "            {\"role\": \"user\", \"content\": user_content},\n",
        "        ],\n",
        "    }\n",
        "\n",
        "train_dataset = train_dataset.map(make_conversation)\n",
        "train_dataset = train_dataset.remove_columns([\"secenekler\",\"soru\"])"
      ],
      "metadata": {
        "trusted": true,
        "id": "f573c07b-94dc-439b-8e97-ed9a9580c755"
      },
      "outputs": [],
      "execution_count": null
    },
    {
      "id": "19edd608-3394-4cd2-af56-2716ac8738c8",
      "cell_type": "code",
      "source": [
        "print(train_dataset)"
      ],
      "metadata": {
        "trusted": true,
        "id": "19edd608-3394-4cd2-af56-2716ac8738c8"
      },
      "outputs": [],
      "execution_count": null
    },
    {
      "id": "64e48fff-a22e-4c24-ab92-77f0b3968ccb",
      "cell_type": "code",
      "source": [
        "import torch\n",
        "from transformers import AutoModelForCausalLM, BitsAndBytesConfig\n",
        "\n",
        "bnb_config = BitsAndBytesConfig(\n",
        "    load_in_4bit=True,\n",
        "    bnb_4bit_quant_type=\"nf4\",\n",
        "    bnb_4bit_use_double_quant=True,\n",
        ")\n",
        "\n",
        "model_id = \"ytu-ce-cosmos/Turkish-Llama-8b-Instruct-v0.1\"\n",
        "model = AutoModelForCausalLM.from_pretrained(\n",
        "    model_id,\n",
        "    quantization_config=bnb_config,\n",
        "    torch_dtype=\"auto\",\n",
        "    device_map=\"auto\",\n",
        ")"
      ],
      "metadata": {
        "trusted": true,
        "id": "64e48fff-a22e-4c24-ab92-77f0b3968ccb"
      },
      "outputs": [],
      "execution_count": null
    },
    {
      "id": "43d9f690-c1a6-4756-9c5f-7788f82cfead",
      "cell_type": "code",
      "source": [
        "from peft import LoraConfig, get_peft_model\n",
        "\n",
        "lora_config = LoraConfig(\n",
        "    task_type=\"CAUSAL_LM\",\n",
        "    r=8,\n",
        "    lora_alpha=32,\n",
        "    lora_dropout=0.1,\n",
        "    target_modules=[\"q_proj\", \"v_proj\"],\n",
        ")\n",
        "\n",
        "model = get_peft_model(model, lora_config)\n",
        "\n",
        "model.print_trainable_parameters()"
      ],
      "metadata": {
        "trusted": true,
        "id": "43d9f690-c1a6-4756-9c5f-7788f82cfead"
      },
      "outputs": [],
      "execution_count": null
    },
    {
      "id": "5562e6cc-916a-4c1c-bf79-3eccb968b45a",
      "cell_type": "code",
      "source": [
        "import re\n",
        "\n",
        "\n",
        "def format_reward(completions, **kwargs):\n",
        "    \"\"\"Reward function that checks if the completion has a specific format.\"\"\"\n",
        "    pattern = r\"^<duşünce>.*?</düşünce>\\s*<cevap>.*?</cevap>$\"\n",
        "    completion_contents = [completion[0][\"content\"] for completion in completions]\n",
        "    matches = [re.match(pattern, content) for content in completion_contents]\n",
        "    rewards_list = [1.0 if match else 0.0 for match in matches]\n",
        "    return [1.0 if match else 0.0 for match in matches]"
      ],
      "metadata": {
        "trusted": true,
        "id": "5562e6cc-916a-4c1c-bf79-3eccb968b45a"
      },
      "outputs": [],
      "execution_count": null
    },
    {
      "id": "61b49cd6-c211-4001-9f26-212c69aa3e25",
      "cell_type": "code",
      "source": [
        "def accuracy_reward(completions, **kwargs):\n",
        "    \"\"\"Reward function that checks if the completion is the same as the ground truth.\"\"\"\n",
        "    solutions = kwargs[\"solution\"]\n",
        "    completion_contents = [completion[0][\"content\"] for completion in completions]\n",
        "    rewards = []\n",
        "    for content, solution in zip(completion_contents, solutions):\n",
        "        correct_letter = solution.upper()\n",
        "        # Regex to find standalone option letters (A-E) followed by optional ')' and punctuation/whitespace\n",
        "        option_pattern = re.compile(r'\\b([A-E])\\)?(?=\\s|\\.|,|$)', re.IGNORECASE)\n",
        "        matches = option_pattern.findall(content.upper())\n",
        "        letters_found = [m.upper() for m in matches]\n",
        "\n",
        "        # Check if correct_letter is present and no incorrect letters are mentioned\n",
        "        if correct_letter in letters_found and all(letter == correct_letter for letter in letters_found):\n",
        "            rewards.append(1.0)  # Full reward for correct answer and no other options\n",
        "        else:\n",
        "            rewards.append(0.0)  # No reward otherwise\n",
        "    return rewards"
      ],
      "metadata": {
        "trusted": true,
        "id": "61b49cd6-c211-4001-9f26-212c69aa3e25"
      },
      "outputs": [],
      "execution_count": null
    },
    {
      "id": "71bfcf44-d55e-469c-9d20-369eafdcfe06",
      "cell_type": "code",
      "source": [
        "from trl import GRPOConfig\n",
        "\n",
        "# Configure training arguments using GRPOConfig\n",
        "training_args = GRPOConfig(\n",
        "    output_dir=\"Cosmos-8B-GRPO\",\n",
        "    learning_rate=1e-5,\n",
        "    remove_unused_columns=False,  # to access the solution column in accuracy_reward\n",
        "    gradient_accumulation_steps=16,\n",
        "    num_train_epochs=1,\n",
        "    bf16=True,\n",
        "    # Parameters that control de data preprocessing\n",
        "    max_completion_length=64,  # default: 256\n",
        "    num_generations=4,  # default: 8\n",
        "    max_prompt_length=128,  # default: 512\n",
        "    # Parameters related to reporting and saving\n",
        "    report_to=\"wandb\",\n",
        "    logging_steps=10,\n",
        "    push_to_hub=True,\n",
        "    save_strategy=\"steps\",\n",
        "    save_steps=10,\n",
        ")"
      ],
      "metadata": {
        "trusted": true,
        "id": "71bfcf44-d55e-469c-9d20-369eafdcfe06"
      },
      "outputs": [],
      "execution_count": null
    },
    {
      "id": "0fdfc883-9e88-498f-8780-9fb898de5222",
      "cell_type": "code",
      "source": [
        "from trl import GRPOTrainer\n",
        "\n",
        "trainer = GRPOTrainer(\n",
        "    model=model, reward_funcs=[format_reward, accuracy_reward], args=training_args, train_dataset=train_dataset\n",
        ")"
      ],
      "metadata": {
        "trusted": true,
        "id": "0fdfc883-9e88-498f-8780-9fb898de5222"
      },
      "outputs": [],
      "execution_count": null
    },
    {
      "id": "ee14158d-e30a-4465-b2a6-2137b7629087",
      "cell_type": "code",
      "source": [
        "trainer.train()\n",
        "wandb.finish()"
      ],
      "metadata": {
        "trusted": true,
        "id": "ee14158d-e30a-4465-b2a6-2137b7629087"
      },
      "outputs": [],
      "execution_count": null
    },
    {
      "id": "6465abde-2414-4732-b6a9-ba2cab7385a7",
      "cell_type": "code",
      "source": [
        "trainer.save_model(training_args.output_dir)\n",
        "trainer.push_to_hub(dataset_name=dataset_id)"
      ],
      "metadata": {
        "trusted": true,
        "id": "6465abde-2414-4732-b6a9-ba2cab7385a7"
      },
      "outputs": [],
      "execution_count": null
    }
  ]
}